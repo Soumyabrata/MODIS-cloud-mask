{
 "cells": [
  {
   "cell_type": "markdown",
   "metadata": {},
   "source": [
    "### Import the libraries "
   ]
  },
  {
   "cell_type": "code",
   "execution_count": 1,
   "metadata": {
    "collapsed": true
   },
   "outputs": [],
   "source": [
    "import cv2\n",
    "import matplotlib\n",
    "import numpy as np\n",
    "import matplotlib.pyplot as plt\n",
    "%matplotlib inline\n",
    "import csv\n",
    "import datetime\n",
    "from glob import glob\n",
    "import os\n",
    "import exifread\n",
    "import scipy.ndimage.interpolation\n",
    "from pysolar.solar import *\n",
    "import scipy.io as sio\n",
    "\n",
    "import matplotlib as mpl\n",
    "mpl.style.use('classic')\n",
    "mpl.rc(\"figure\", facecolor=\"white\")\n",
    "\n",
    "# User defined functions\n",
    "from normalize_array import *\n",
    "from readCoverage import *\n",
    "from nearest import *"
   ]
  },
  {
   "cell_type": "markdown",
   "metadata": {},
   "source": [
    "### MOD data\n",
    "\n",
    "This imports the MOD data from MODIS satellite images. The various parameters viz., day number, hour, minute, average cloud mask value, and center cloud mask value are pre-computed using a MATLAB script *something.m*."
   ]
  },
  {
   "cell_type": "code",
   "execution_count": 2,
   "metadata": {},
   "outputs": [
    {
     "name": "stdout",
     "output_type": "stream",
     "text": [
      "(268, 5)\n",
      "The total number of MOD observations is 268\n"
     ]
    }
   ],
   "source": [
    "test = sio.loadmat('./cloud_mask/CloudMask_2015_MOD.mat', squeeze_me=True, struct_as_record=False)\n",
    "\n",
    "data_array = test[\"DATA\"]\n",
    "print (data_array.shape)\n",
    "day_number1 = data_array[:,0]\n",
    "hour1 = data_array[:,1]\n",
    "minute1 = data_array[:,2]\n",
    "avg_cmask1 = data_array[:,3]\n",
    "cen_cmask1 = data_array[:,4]\n",
    "\n",
    "print ('The total number of MOD observations is', len(day_number1))"
   ]
  },
  {
   "cell_type": "markdown",
   "metadata": {},
   "source": [
    "### MYD data\n",
    "\n",
    "Just like MOD data, the MYD data are also extracted from the MODIS satellite images."
   ]
  },
  {
   "cell_type": "code",
   "execution_count": 3,
   "metadata": {},
   "outputs": [
    {
     "name": "stdout",
     "output_type": "stream",
     "text": [
      "(265, 5)\n",
      "The total number of MYD observations is 265\n"
     ]
    }
   ],
   "source": [
    "test = sio.loadmat('./cloud_mask/CloudMask_2015_MYD.mat', squeeze_me=True, struct_as_record=False)\n",
    "    \n",
    "data_array = test[\"DATA\"]\n",
    "print (data_array.shape)\n",
    "\n",
    "day_number2 = data_array[:,0]\n",
    "hour2 = data_array[:,1]\n",
    "minute2 = data_array[:,2]\n",
    "avg_cmask2 = data_array[:,3]\n",
    "cen_cmask2 = data_array[:,4]\n",
    "\n",
    "print ('The total number of MYD observations is', len(day_number2))"
   ]
  },
  {
   "cell_type": "markdown",
   "metadata": {},
   "source": [
    "### Concatenating MOD & MYD data\n",
    "\n",
    "We combine both MOD and MYD data into a single data series. This is because, we analyze all the observations together in a day-wise fashion."
   ]
  },
  {
   "cell_type": "code",
   "execution_count": 4,
   "metadata": {
    "collapsed": true
   },
   "outputs": [],
   "source": [
    "day_series = np.concatenate([day_number1, day_number2])\n",
    "hour_series = np.concatenate([hour1, hour2])\n",
    "minute_series = np.concatenate([minute1, minute2])\n",
    "avg_cmask_series = np.concatenate([avg_cmask1, avg_cmask2])\n",
    "cen_cmask_series = np.concatenate([cen_cmask1, cen_cmask2])"
   ]
  },
  {
   "cell_type": "markdown",
   "metadata": {},
   "source": [
    "### Converting MODIS observations into datetime objects"
   ]
  },
  {
   "cell_type": "code",
   "execution_count": 5,
   "metadata": {},
   "outputs": [
    {
     "name": "stdout",
     "output_type": "stream",
     "text": [
      "The total number of combined MODIS observations is 533\n"
     ]
    }
   ],
   "source": [
    "YEAR = 2015\n",
    "datetime_MODIS_series = []\n",
    "for i,item in enumerate(day_series):\n",
    "    \n",
    "    date_object = datetime.datetime(YEAR, 1, 1) + datetime.timedelta(item - 1)\n",
    "    sw = datetime.datetime(date_object.year,date_object.month,date_object.day,int(hour_series[i]),int(minute_series[i]),0)\n",
    "    datetime_MODIS_series.append(sw) \n",
    "    \n",
    "print ('The total number of combined MODIS observations is',len(datetime_MODIS_series))"
   ]
  },
  {
   "cell_type": "markdown",
   "metadata": {
    "collapsed": true
   },
   "source": [
    "### Coverage value from ground-based sky cameras\n",
    "\n",
    "The coverage ratio from ground-based sky-cameras are pre-computed using our cloud segmentation algorithm. The coverage results are archived in text files inside the folder `coverage_data`.\n",
    "\n",
    "Please refer the refer the repository <a href=\"https://github.com/Soumyabrata/cloud-radiative-effect\">cloud-radiative-effect</a> for the cloud coverage computation. \n",
    "\n",
    "The following section combines the results from all the individual-day results."
   ]
  },
  {
   "cell_type": "code",
   "execution_count": 6,
   "metadata": {},
   "outputs": [],
   "source": [
    "# Index all the files\n",
    "global_files = []\n",
    "start_dir = './coverage_data/'\n",
    "\n",
    "# Check for all text files.\n",
    "pattern  = \"*.txt\"\n",
    "for direc,_,_ in os.walk(start_dir):\n",
    "    global_files.extend(glob(os.path.join(direc,pattern)))\n",
    "\n",
    "\n",
    "datetime_series = []\n",
    "COV_series = []\n",
    "for one_file in global_files:\n",
    "    \n",
    "    (datetime_COV,COV_values) = readingCOVERAGE(one_file)  \n",
    "    datetime_series = np.concatenate([datetime_series, datetime_COV])\n",
    "    COV_series = np.concatenate([COV_series, COV_values])"
   ]
  },
  {
   "cell_type": "markdown",
   "metadata": {},
   "source": [
    "### Combine data from cloud mask and cloud coverage "
   ]
  },
  {
   "cell_type": "code",
   "execution_count": 7,
   "metadata": {},
   "outputs": [
    {
     "name": "stdout",
     "output_type": "stream",
     "text": [
      "Calculating for the first time\n",
      "Computation complete\n"
     ]
    }
   ],
   "source": [
    "if os.path.isfile('./cmask_coverage_result/2015data.txt'):\n",
    "    print ('Computed file exists')\n",
    "else:\n",
    "    print ('Calculating for the first time')\n",
    "    \n",
    "    file_name = './cmask_coverage_result/2015data.txt'\n",
    "    text_file = open(file_name, \"w\")\n",
    "\n",
    "    # Header line\n",
    "    text_file.write(\"date,timeMODIS,timeImage,cloudMaskForMODISTime,coverageForMODISTime\\n\")    \n",
    "\n",
    "    # Parsing the datetime objects of MODIS\n",
    "    for robin,particular_date in enumerate(datetime_MODIS_series):\n",
    "\n",
    "        # Check time is from MODIS, and it checks sky camera image timestamps\n",
    "        check_time = particular_date\n",
    "        (time_found,diff_ts) = nearest(check_time,datetime_series) \n",
    "\n",
    "        if abs(diff_ts)<900: #15 mins\n",
    "            #print ('check time=',check_time,' and found time=',time_found)\n",
    "            #print ('within 15 mins---adding')\n",
    "            location_index = np.where( datetime_series == time_found)\n",
    "            coverage_item = COV_series[location_index]\n",
    "            cmask_item = avg_cmask_series[robin]\n",
    "            text_file.write(\"%s,%s,%s,%s,%s\\n\" %(particular_date, check_time, time_found, cmask_item, coverage_item[0])) \n",
    "\n",
    "    text_file.close() \n",
    "    print ('Computation complete')    "
   ]
  },
  {
   "cell_type": "markdown",
   "metadata": {},
   "source": [
    "### Data points of *combined* cloud mask and cloud coverage values"
   ]
  },
  {
   "cell_type": "code",
   "execution_count": 8,
   "metadata": {
    "collapsed": true
   },
   "outputs": [],
   "source": [
    "file_path = \"./cmask_coverage_result/2015data.txt\"\n",
    "input_file = csv.DictReader(open(file_path))\n",
    "\n",
    "\n",
    "final_cmask = []\n",
    "final_coverage = []\n",
    "\n",
    "for row in input_file:\n",
    "    \n",
    "    c_mask = float(row[\"cloudMaskForMODISTime\"])\n",
    "    coverage_image = float(row[\"coverageForMODISTime\"])\n",
    "    \n",
    "    final_cmask.append(c_mask)\n",
    "    final_coverage.append(coverage_image)\n",
    "    \n",
    "    \n",
    "final_cmask = np.array(final_cmask)\n",
    "final_coverage = np.array(final_coverage)"
   ]
  },
  {
   "cell_type": "markdown",
   "metadata": {},
   "source": [
    "### Results "
   ]
  },
  {
   "cell_type": "code",
   "execution_count": 9,
   "metadata": {},
   "outputs": [
    {
     "data": {
      "image/png": "[encoded data removed]",
      "text/plain": [
       "<matplotlib.figure.Figure at 0x111ea3470>"
      ]
     },
     "metadata": {},
     "output_type": "display_data"
    }
   ],
   "source": [
    "NO_OF_BINS = 4   \n",
    "box_mask = [[] for _ in range(NO_OF_BINS)]\n",
    "mask100 = np.multiply(final_cmask,100)\n",
    "  \n",
    "for i,item in enumerate(mask100):\n",
    "    whichBin = int(item/(100/NO_OF_BINS))\n",
    "    if whichBin==NO_OF_BINS:\n",
    "        whichBin = NO_OF_BINS - 1\n",
    "    \n",
    "    box_mask[whichBin].append(final_coverage[i])\n",
    "    \n",
    "    \n",
    "labelList = []\n",
    "for ll in np.arange(1,1+NO_OF_BINS):\n",
    "    labelList.append(str(int((100/NO_OF_BINS)*(ll-1)+1)) + '-' + str(int((100/NO_OF_BINS)*ll)))   \n",
    "    \n",
    "\n",
    "fig = plt.figure(2,figsize=(5, 4))\n",
    "ax = fig.add_subplot(111)\n",
    "plt.boxplot(box_mask,whis=5)\n",
    "ax.set_xticklabels(labelList)\n",
    "ax.set_ylabel('Cloud Coverage (from images)', fontsize=14)\n",
    "ax.set_xlabel('Cloud Mask (from MODIS)', fontsize=14)\n",
    "ax.grid(True)\n",
    "plt.tight_layout()\n",
    "plt.savefig('./figs/result.pdf', format='pdf')\n",
    "plt.show()"
   ]
  }
 ],
 "metadata": {
  "kernelspec": {
   "display_name": "Python 3",
   "language": "python",
   "name": "python3"
  },
  "language_info": {
   "codemirror_mode": {
    "name": "ipython",
    "version": 3
   },
   "file_extension": ".py",
   "mimetype": "text/x-python",
   "name": "python",
   "nbconvert_exporter": "python",
   "pygments_lexer": "ipython3",
   "version": "3.6.1"
  }
 },
 "nbformat": 4,
 "nbformat_minor": 2
}
